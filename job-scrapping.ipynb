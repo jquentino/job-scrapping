{
 "cells": [
  {
   "cell_type": "markdown",
   "metadata": {},
   "source": [
    "## Imports"
   ]
  },
  {
   "cell_type": "code",
   "execution_count": 4,
   "metadata": {},
   "outputs": [],
   "source": [
    "import dotenv\n",
    "from pydantic import BaseModel\n",
    "import datetime\n",
    "from google.genai import types, Client\n",
    "from pymongo import MongoClient\n",
    "from pymongo.errors import BulkWriteError\n",
    "import os\n",
    "\n",
    "dotenv.load_dotenv()\n",
    "SERPAPI_KEY = os.getenv('SERPAPI_KEY')\n",
    "GEMINI_API_KEY= os.getenv('GEMINI_API_KEY')\n",
    "MONGO_URI = os.getenv('MONGO_URI')\n",
    "DATABASE_NAME = os.getenv('DATABASE_NAME')\n",
    "COLLECTION_NAME = os.getenv('COLLECTION_NAME')"
   ]
  },
  {
   "cell_type": "markdown",
   "metadata": {},
   "source": [
    "## Models"
   ]
  },
  {
   "cell_type": "code",
   "execution_count": 5,
   "metadata": {},
   "outputs": [],
   "source": [
    "class ApplyOption(BaseModel):\n",
    "    title: str\n",
    "    link: str\n",
    "\n",
    "class JobHilight(BaseModel):\n",
    "    title: str\n",
    "    items: list[str]\n",
    "\n",
    "class Job(BaseModel):\n",
    "    job_id: str\n",
    "    title: str\n",
    "    company: str\n",
    "    location: str\n",
    "    posted_date: datetime.date\n",
    "    description: str\n",
    "    job_highlights: list[JobHilight]\n",
    "    schedule_type: str\n",
    "    thumbnail: str | None\n",
    "    apply: ApplyOption\n",
    "    via: str\n",
    "    job_vector: list[float] | None = None"
   ]
  },
  {
   "cell_type": "markdown",
   "metadata": {},
   "source": [
    "## Factory and Embedding"
   ]
  },
  {
   "cell_type": "code",
   "execution_count": 6,
   "metadata": {},
   "outputs": [],
   "source": [
    "gemini_client = Client(api_key=GEMINI_API_KEY)"
   ]
  },
  {
   "cell_type": "code",
   "execution_count": 7,
   "metadata": {},
   "outputs": [],
   "source": [
    "def job_factory(response: dict) -> Job:\n",
    "    delta_days = response['detected_extensions'].get('posted_at', 0)\n",
    "    if delta_days:\n",
    "        delta_days = [int(s) for s in delta_days.split() if s.isdigit()][0]\n",
    "\n",
    "    job_obj = Job(\n",
    "        job_id=response['job_id'],\n",
    "        title=response['title'],\n",
    "        company=response['company_name'],\n",
    "        location=response['location'],\n",
    "        posted_date=datetime.date.today() - datetime.timedelta(days=delta_days),\n",
    "        description=response['description'],\n",
    "        job_highlights=[JobHilight(**jobhilight) for jobhilight in response.get('job_highlights', [])],\n",
    "        schedule_type=response['detected_extensions'].get('schedule_type', ''),\n",
    "        thumbnail=response.get('thumbnail', None),\n",
    "        apply=ApplyOption(**response[\"apply_options\"][0]),\n",
    "        via=response['via']\n",
    "    )\n",
    "    return job_obj"
   ]
  },
  {
   "cell_type": "code",
   "execution_count": 8,
   "metadata": {},
   "outputs": [],
   "source": [
    "def job_highlights_to_text(job_highlights: list[JobHilight]) -> list[str]:\n",
    "    highlights_text = \"\\n\".join([\n",
    "        highlight.title + \"\\n\" + \"\\n\".join(highlight.items) for highlight in job_highlights\n",
    "        ])\n",
    "    return highlights_text\n",
    "\n",
    "def add_embedding_to_jobs(jobs: list[Job]) -> Job:\n",
    "    text_list = []\n",
    "    for job in jobs:\n",
    "        # text_list.append(job_highlights_to_text(job.job_highlights))\n",
    "        text_list.append(job.description) # for now, we will use the description for the embeddings\n",
    "    \n",
    "    result = gemini_client.models.embed_content(\n",
    "        model=\"text-embedding-004\",\n",
    "        contents=text_list,\n",
    "        config=types.EmbedContentConfig(task_type=\"SEMANTIC_SIMILARITY\")\n",
    "    )\n",
    "\n",
    "    for job in jobs:\n",
    "        embed = result.embeddings.pop(0)\n",
    "        job.job_vector = embed.values"
   ]
  },
  {
   "cell_type": "markdown",
   "metadata": {},
   "source": [
    "## Querying Jobs"
   ]
  },
  {
   "cell_type": "code",
   "execution_count": 6,
   "metadata": {},
   "outputs": [],
   "source": [
    "from serpapi import GoogleSearch\n",
    "\n",
    "\n",
    "def get_jobs(\n",
    "    query: str, location: str = \"Brazil\", next_page_token: str = None\n",
    ") -> tuple[list[dict], str]:\n",
    "    params = {\n",
    "        \"engine\": \"google_jobs\",\n",
    "        \"q\": query,\n",
    "        \"location\": location,\n",
    "        \"next_page_token\": next_page_token,\n",
    "        \"api_key\": SERPAPI_KEY,\n",
    "    }\n",
    "\n",
    "    search = GoogleSearch(params)\n",
    "    results = search.get_dict()\n",
    "    if \"serpapi_pagination\" in results:\n",
    "        next_page_token = results[\"serpapi_pagination\"].get(\"next_page_token\", None)\n",
    "    jobs_results = results.get(\"jobs_results\", [])\n",
    "    return jobs_results, next_page_token\n"
   ]
  },
  {
   "cell_type": "code",
   "execution_count": 13,
   "metadata": {},
   "outputs": [],
   "source": [
    "jobs_response, next_page_token = get_jobs(\"Embedded Systems Engineer\")"
   ]
  },
  {
   "cell_type": "code",
   "execution_count": 17,
   "metadata": {},
   "outputs": [
    {
     "data": {
      "text/plain": [
       "'About Nimble: Nimble is a cutting-edge company at the forefront of innovation in video and IoT devices.\\n\\nJob Brief:\\n\\nThe firmware team at Nimble has an immediate opening for a Senior Embedded Firmware Engineer. We are looking for an expert in streaming video within complex channel environments. As part of this role, you will be working on implementing everything from RTOS to device drivers, applications, communication protocols, and test features in our video and IoT devices.\\n\\nThis position requires adaptability to a fast-paced environment, where your contributions will make a significant impact on our products.\\nKey Responsibilities\\n• Design and develop advanced firmware solutions for video and IoT devices.\\n• Implement efficient and scalable software architecture.\\n• Collaborate with cross-functional teams to integrate firmware components.\\n• Develop and maintain device drivers, applications, and communication protocols.\\n• Conduct thorough testing and debugging of firmware.\\n\\nRequirements\\n• Mastery of C programming language and experience with embedded systems.\\n• In-depth knowledge of RTOS and device driver development.\\n• Strong understanding of communication protocols and networking fundamentals.\\n• Excellent problem-solving skills and attention to detail.\\n• Ability to work effectively in a fast-paced environment and adapt to changing priorities.'"
      ]
     },
     "execution_count": 17,
     "metadata": {},
     "output_type": "execute_result"
    }
   ],
   "source": [
    "jobs_response[5][\"description\"]"
   ]
  },
  {
   "cell_type": "markdown",
   "metadata": {},
   "source": [
    "# Sending to mongoDB"
   ]
  },
  {
   "cell_type": "code",
   "execution_count": 14,
   "metadata": {},
   "outputs": [
    {
     "data": {
      "text/plain": [
       "'job_id_1'"
      ]
     },
     "execution_count": 14,
     "metadata": {},
     "output_type": "execute_result"
    }
   ],
   "source": [
    "client = MongoClient(MONGO_URI)\n",
    "db = client[DATABASE_NAME]\n",
    "collection = db[COLLECTION_NAME]\n",
    "\n",
    "# Create an index on the job_id field\n",
    "collection.create_index(\"job_id\", unique=True)"
   ]
  },
  {
   "cell_type": "markdown",
   "metadata": {},
   "source": [
    "# Batch Transactions"
   ]
  },
  {
   "cell_type": "code",
   "execution_count": 9,
   "metadata": {},
   "outputs": [],
   "source": [
    "import json"
   ]
  },
  {
   "cell_type": "code",
   "execution_count": 18,
   "metadata": {},
   "outputs": [],
   "source": [
    "def scrapping_trasanction(query: str, location: str|None = \"Brazil\", max_page: int = 1000):\n",
    "    next_page_token = None\n",
    "    for batch_num in range(max_page):\n",
    "        try:\n",
    "            # print(f\"Processing batch number {batch_num}\")\n",
    "            jobs_results, next_page_token = get_jobs(\n",
    "                query, location=location, next_page_token=next_page_token\n",
    "            )\n",
    "            parsed_objects = [job_factory(job) for job in jobs_results]\n",
    "            parsed_objects = list(filter(lambda job: job.description is not None, parsed_objects))\n",
    "            add_embedding_to_jobs(parsed_objects)\n",
    "            collection.insert_many(\n",
    "                [job.model_dump(mode=\"json\") for job in parsed_objects],\n",
    "                ordered=False\n",
    "            )\n",
    "\n",
    "            if not next_page_token:\n",
    "                break\n",
    "\n",
    "        except BulkWriteError as bulkexcep:\n",
    "            if bulkexcep.details[\"writeErrors\"][0][\"code\"] == 11000:\n",
    "                # print(\"Job already exists\")\n",
    "                ...\n",
    "            else:\n",
    "                print(f\"Error: {bulkexcep.details}\")\n",
    "        except Exception as e:\n",
    "            print(f\"Error: {e}\")\n",
    "            pass"
   ]
  },
  {
   "cell_type": "code",
   "execution_count": 19,
   "metadata": {},
   "outputs": [],
   "source": [
    "queries_list = json.load(open(\"query-jobs.json\"))[\"queries\"]"
   ]
  },
  {
   "cell_type": "code",
   "execution_count": null,
   "metadata": {},
   "outputs": [],
   "source": [
    "for query in queries_list:\n",
    "    print(query)\n",
    "    scrapping_trasanction(query, \"Brazil\", 1000)"
   ]
  },
  {
   "cell_type": "markdown",
   "metadata": {},
   "source": [
    "# Fetching the jobs from the database"
   ]
  },
  {
   "cell_type": "code",
   "execution_count": 16,
   "metadata": {},
   "outputs": [],
   "source": [
    "from pymongo.operations import SearchIndexModel"
   ]
  },
  {
   "cell_type": "code",
   "execution_count": 17,
   "metadata": {},
   "outputs": [],
   "source": [
    "search_index_model = SearchIndexModel(\n",
    "  definition={\n",
    "    \"fields\": [\n",
    "      {\n",
    "        \"type\": \"vector\",\n",
    "        \"path\": \"job_vector\",\n",
    "        \"numDimensions\": 768,\n",
    "        \"similarity\": \"dotProduct\",\n",
    "        \"quantization\": \"scalar\"\n",
    "      }\n",
    "    ]\n",
    "  },\n",
    "  name=\"vector_index\",\n",
    "  type=\"vectorSearch\"\n",
    ")"
   ]
  },
  {
   "cell_type": "code",
   "execution_count": 52,
   "metadata": {},
   "outputs": [
    {
     "name": "stdout",
     "output_type": "stream",
     "text": [
      "vector_index already exists\n"
     ]
    }
   ],
   "source": [
    "indexes = list(collection.list_search_indexes())\n",
    "indexes_names = [index['name'] for index in indexes]\n",
    "if 'vector_index' not in indexes_names:\n",
    "    result = collection.create_search_index(model=search_index_model)\n",
    "    print(result)\n",
    "else:\n",
    "    print('vector_index already exists')"
   ]
  },
  {
   "cell_type": "code",
   "execution_count": 82,
   "metadata": {},
   "outputs": [],
   "source": [
    "with open(\"test_files/test_resume.txt\", \"r\") as f:\n",
    "    test_resume = f.read()"
   ]
  },
  {
   "cell_type": "code",
   "execution_count": 83,
   "metadata": {},
   "outputs": [],
   "source": [
    "result = gemini_client.models.embed_content(\n",
    "        model=\"text-embedding-004\",\n",
    "        contents=[test_resume],\n",
    "        config=types.EmbedContentConfig(task_type=\"SEMANTIC_SIMILARITY\")\n",
    ")\n",
    "\n",
    "vector_resume = result.embeddings[0].values"
   ]
  },
  {
   "cell_type": "code",
   "execution_count": 84,
   "metadata": {},
   "outputs": [],
   "source": [
    "pipeline = [\n",
    "  {\n",
    "    '$vectorSearch': {\n",
    "        'exact': True,\n",
    "        'index': 'vector_index', \n",
    "        'path': 'job_vector', \n",
    "        'queryVector': vector_resume,\n",
    "        # 'numCandidates': 700, \n",
    "        'limit': 20\n",
    "    }\n",
    "  }, {\n",
    "    '$project': {\n",
    "        '_id': 0, \n",
    "        'title': 1, \n",
    "        'description': 1, \n",
    "        #   'score': {\n",
    "        #     '$meta': 'vectorSearchScore'\n",
    "        #   }\n",
    "    }\n",
    "  }\n",
    "]"
   ]
  },
  {
   "cell_type": "code",
   "execution_count": 85,
   "metadata": {},
   "outputs": [],
   "source": [
    "search_result = collection.aggregate(pipeline)"
   ]
  },
  {
   "cell_type": "code",
   "execution_count": 86,
   "metadata": {},
   "outputs": [],
   "source": [
    "search_result = list(search_result)"
   ]
  },
  {
   "cell_type": "code",
   "execution_count": 87,
   "metadata": {},
   "outputs": [
    {
     "name": "stdout",
     "output_type": "stream",
     "text": [
      "Software Engineer I Jobs\n",
      "Software Engineer\n",
      "Software Engineer (Aircraft Systems) - TRU Simulation\n",
      "Research Software Engineer\n",
      "Embedded Software Engineer\n",
      "Firmware Engineer\n",
      "Senior Software Developer - Embedded Systems\n",
      "Java Full Stack Developer\n",
      "Android Auto Expert for Real-Time Embedded Systems\n",
      "Senior Software Engineer for Android Set-Top Box Platform\n",
      "Java Software Engineer (Senior)\n",
      "Senior Embedded Systems Developer for High-Precision Machines\n",
      "Software Engineer - (Profile Core Banking)\n",
      "Sr Software Engineer\n",
      "Embedded Software Developer\n",
      "Hardware & Firmware Solutions Engineer\n",
      "Full Stack Software Engineer, Senior Advisor\n",
      "Senior Developer - Android Expertise\n",
      "Senior Embedded Firmware Software Development Lead\n",
      "Developing Innovative Android Solutions\n"
     ]
    }
   ],
   "source": [
    "for i in search_result:\n",
    "    print(i['title'])"
   ]
  }
 ],
 "metadata": {
  "kernelspec": {
   "display_name": ".venv",
   "language": "python",
   "name": "python3"
  },
  "language_info": {
   "codemirror_mode": {
    "name": "ipython",
    "version": 3
   },
   "file_extension": ".py",
   "mimetype": "text/x-python",
   "name": "python",
   "nbconvert_exporter": "python",
   "pygments_lexer": "ipython3",
   "version": "3.12.6"
  }
 },
 "nbformat": 4,
 "nbformat_minor": 2
}
