{
 "cells": [
  {
   "cell_type": "markdown",
   "metadata": {},
   "source": [
    "## Imports"
   ]
  },
  {
   "cell_type": "code",
   "execution_count": 65,
   "metadata": {},
   "outputs": [],
   "source": [
    "import dotenv\n",
    "from pydantic import BaseModel\n",
    "import datetime\n",
    "from google.genai import types, Client\n",
    "from pymongo import MongoClient\n",
    "from pymongo.errors import BulkWriteError\n",
    "import os\n",
    "\n",
    "dotenv.load_dotenv()\n",
    "SERPAPI_KEY = os.getenv('SERPAPI_KEY')\n",
    "GEMINI_API_KEY= os.getenv('GEMINI_API_KEY')\n",
    "MONGO_URI = os.getenv('MONGO_URI')\n",
    "DATABASE_NAME = os.getenv('DATABASE_NAME')\n",
    "COLLECTION_NAME = os.getenv('COLLECTION_NAME')"
   ]
  },
  {
   "cell_type": "markdown",
   "metadata": {},
   "source": [
    "## Models"
   ]
  },
  {
   "cell_type": "code",
   "execution_count": 7,
   "metadata": {},
   "outputs": [],
   "source": [
    "class ApplyOption(BaseModel):\n",
    "    title: str\n",
    "    link: str\n",
    "\n",
    "class JobHilight(BaseModel):\n",
    "    title: str\n",
    "    items: list[str]\n",
    "\n",
    "class Job(BaseModel):\n",
    "    job_id: str\n",
    "    title: str\n",
    "    company: str\n",
    "    location: str\n",
    "    posted_date: datetime.date\n",
    "    description: str\n",
    "    job_highlights: list[JobHilight]\n",
    "    schedule_type: str\n",
    "    thumbnail: str | None\n",
    "    apply: ApplyOption\n",
    "    via: str\n",
    "    job_vector: list[float] | None = None"
   ]
  },
  {
   "cell_type": "markdown",
   "metadata": {},
   "source": [
    "## Factory and Embedding"
   ]
  },
  {
   "cell_type": "code",
   "execution_count": null,
   "metadata": {},
   "outputs": [],
   "source": [
    "gemini_client = Client(api_key=GEMINI_API_KEY)"
   ]
  },
  {
   "cell_type": "code",
   "execution_count": 74,
   "metadata": {},
   "outputs": [],
   "source": [
    "def job_factory(response: dict) -> Job:\n",
    "    delta_days = response['detected_extensions'].get('posted_at', 0)\n",
    "    if delta_days:\n",
    "        delta_days = [int(s) for s in delta_days.split() if s.isdigit()][0]\n",
    "\n",
    "    job_obj = Job(\n",
    "        job_id=response['job_id'],\n",
    "        title=response['title'],\n",
    "        company=response['company_name'],\n",
    "        location=response['location'],\n",
    "        posted_date=datetime.date.today() - datetime.timedelta(days=delta_days),\n",
    "        description=response['description'],\n",
    "        job_highlights=[JobHilight(**jobhilight) for jobhilight in response.get('job_highlights', [])],\n",
    "        schedule_type=response['detected_extensions'].get('schedule_type', ''),\n",
    "        thumbnail=response.get('thumbnail', None),\n",
    "        apply=ApplyOption(**response[\"apply_options\"][0]),\n",
    "        via=response['via']\n",
    "    )\n",
    "    return job_obj"
   ]
  },
  {
   "cell_type": "code",
   "execution_count": 71,
   "metadata": {},
   "outputs": [],
   "source": [
    "def job_highlights_to_text(job_highlights: list[JobHilight]) -> list[str]:\n",
    "    highlights_text = \"\\n\".join([\n",
    "        highlight.title + \"\\n\" + \"\\n\".join(highlight.items) for highlight in job_highlights\n",
    "        ])\n",
    "    return highlights_text\n",
    "\n",
    "def add_embedding_to_jobs(jobs: list[Job]) -> Job:\n",
    "    text_list = []\n",
    "    for job in jobs:\n",
    "        text_list.append(job_highlights_to_text(job.job_highlights))\n",
    "    \n",
    "    result = gemini_client.models.embed_content(\n",
    "        model=\"text-embedding-004\",\n",
    "        contents=text_list,\n",
    "        config=types.EmbedContentConfig(task_type=\"SEMANTIC_SIMILARITY\")\n",
    "    )\n",
    "\n",
    "    for job in jobs:\n",
    "        embed = result.embeddings.pop(0)\n",
    "        job.job_vector = embed.values"
   ]
  },
  {
   "cell_type": "markdown",
   "metadata": {},
   "source": [
    "## Querying Jobs"
   ]
  },
  {
   "cell_type": "code",
   "execution_count": 76,
   "metadata": {},
   "outputs": [],
   "source": [
    "from serpapi import GoogleSearch\n",
    "\n",
    "\n",
    "def get_jobs(\n",
    "        query: str, location: str=\"Brazil\", next_page_token: str = None\n",
    "        ) -> tuple[list[dict], str]:\n",
    "    params = {\n",
    "    \"engine\": \"google_jobs\",\n",
    "    \"q\": query,\n",
    "    \"location\": location,\n",
    "    \"next_page_token\": next_page_token,\n",
    "    \"api_key\": SERPAPI_KEY\n",
    "    }\n",
    "\n",
    "    search = GoogleSearch(params)\n",
    "    results = search.get_dict()\n",
    "    if \"serpapi_pagination\" in results:\n",
    "        next_page_token = results[\"serpapi_pagination\"].get(\"next_page_token\", None)\n",
    "    jobs_results = results[\"jobs_results\"]\n",
    "    return jobs_results, next_page_token\n"
   ]
  },
  {
   "cell_type": "markdown",
   "metadata": {},
   "source": [
    "## Parsing results and adding embedings to jobs"
   ]
  },
  {
   "cell_type": "code",
   "execution_count": 12,
   "metadata": {},
   "outputs": [],
   "source": [
    "parsed_objects = [job_factory(job) for job in jobs_results]"
   ]
  },
  {
   "cell_type": "code",
   "execution_count": 13,
   "metadata": {},
   "outputs": [],
   "source": [
    "add_embedding_to_jobs(parsed_objects)"
   ]
  },
  {
   "cell_type": "markdown",
   "metadata": {},
   "source": [
    "# Sending to mongoDB"
   ]
  },
  {
   "cell_type": "code",
   "execution_count": 69,
   "metadata": {},
   "outputs": [
    {
     "data": {
      "text/plain": [
       "'job_id_1'"
      ]
     },
     "execution_count": 69,
     "metadata": {},
     "output_type": "execute_result"
    }
   ],
   "source": [
    "client = MongoClient(MONGO_URI)\n",
    "db = client[DATABASE_NAME]\n",
    "collection = db[COLLECTION_NAME]\n",
    "\n",
    "# Create an index on the job_id field\n",
    "collection.create_index(\"job_id\", unique=True)"
   ]
  },
  {
   "cell_type": "markdown",
   "metadata": {},
   "source": [
    "# Batch Transactions"
   ]
  },
  {
   "cell_type": "code",
   "execution_count": 77,
   "metadata": {},
   "outputs": [
    {
     "name": "stdout",
     "output_type": "stream",
     "text": [
      "Processing batch number 0\n",
      "Job already exists\n",
      "Processing batch number 1\n",
      "Job already exists\n",
      "Processing batch number 2\n",
      "Job already exists\n",
      "Processing batch number 3\n",
      "Job already exists\n",
      "Processing batch number 4\n",
      "Processing batch number 5\n",
      "Job already exists\n",
      "Processing batch number 6\n",
      "Job already exists\n",
      "Processing batch number 7\n",
      "Job already exists\n",
      "Processing batch number 8\n",
      "Job already exists\n",
      "Processing batch number 9\n",
      "Job already exists\n"
     ]
    }
   ],
   "source": [
    "next_page_token = None\n",
    "for batch_num in range(10):\n",
    "    try: \n",
    "        print(f\"Processing batch number {batch_num}\")\n",
    "        jobs_results, next_page_token = get_jobs(\n",
    "            \"python developer\", next_page_token=next_page_token\n",
    "        )\n",
    "        parsed_objects = [job_factory(job) for job in jobs_results]\n",
    "        add_embedding_to_jobs(parsed_objects)\n",
    "        collection.insert_many(\n",
    "            [job.model_dump(mode=\"json\") for job in parsed_objects],\n",
    "            ordered=False\n",
    "        )\n",
    "\n",
    "        if not next_page_token:\n",
    "            break\n",
    "\n",
    "    except BulkWriteError as bulkexcep:\n",
    "        if bulkexcep.details[\"writeErrors\"][0][\"code\"] == 11000:\n",
    "            print(\"Job already exists\")\n",
    "        pass"
   ]
  }
 ],
 "metadata": {
  "kernelspec": {
   "display_name": ".venv",
   "language": "python",
   "name": "python3"
  },
  "language_info": {
   "codemirror_mode": {
    "name": "ipython",
    "version": 3
   },
   "file_extension": ".py",
   "mimetype": "text/x-python",
   "name": "python",
   "nbconvert_exporter": "python",
   "pygments_lexer": "ipython3",
   "version": "3.12.6"
  }
 },
 "nbformat": 4,
 "nbformat_minor": 2
}
